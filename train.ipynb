{
 "cells": [
  {
   "cell_type": "code",
   "execution_count": 1,
   "metadata": {},
   "outputs": [
    {
     "name": "stderr",
     "output_type": "stream",
     "text": [
      "/home/mxx/anaconda3/envs/myenv2/lib/python3.9/site-packages/torchvision/io/image.py:11: UserWarning: Failed to load image Python extension: libtorch_cuda_cu.so: cannot open shared object file: No such file or directory\n",
      "  warn(f\"Failed to load image Python extension: {e}\")\n",
      "/home/mxx/anaconda3/envs/myenv2/lib/python3.9/site-packages/torch/cuda/__init__.py:141: UserWarning: CUDA initialization: The NVIDIA driver on your system is too old (found version 11040). Please update your GPU driver by downloading and installing a new version from the URL: http://www.nvidia.com/Download/index.aspx Alternatively, go to: https://pytorch.org to install a PyTorch version that has been compiled with your version of the CUDA driver. (Triggered internally at ../c10/cuda/CUDAFunctions.cpp:108.)\n",
      "  return torch._C._cuda_getDeviceCount() > 0\n"
     ]
    }
   ],
   "source": [
    "import torch\n",
    "import numpy as np\n",
    "from tqdm import tqdm\n",
    "import torch.nn as nn\n",
    "import torch.optim as optim\n",
    "from utils.readData import read_dataset\n",
    "from utils.ResNet import ResNet18\n",
    "import torchvision\n"
   ]
  },
  {
   "cell_type": "code",
   "execution_count": 2,
   "metadata": {},
   "outputs": [],
   "source": [
    "# set device\n",
    "device = 'cuda:1' if torch.cuda.is_available() else 'cpu'"
   ]
  },
  {
   "cell_type": "markdown",
   "metadata": {},
   "source": [
    "We down the CIFAR-10 dataset by torchvision.datasets.CIFAR10()."
   ]
  },
  {
   "cell_type": "code",
   "execution_count": 3,
   "metadata": {},
   "outputs": [],
   "source": [
    "# down CIFAR10 dataset\n",
    "# torchvision.datasets.CIFAR10(root='dataset',download=True) "
   ]
  },
  {
   "cell_type": "markdown",
   "metadata": {},
   "source": [
    "Data augmentation"
   ]
  },
  {
   "cell_type": "code",
   "execution_count": 4,
   "metadata": {},
   "outputs": [],
   "source": [
    "# read data and arguement\n",
    "batch_size = 16 #128\n",
    "#\n",
    "cifar10_dir = '/home/mxx/ZZY/deep-learning-mini-project-spring-24-nyu/cifar-10-python/cifar-10-batches-py'\n",
    "#\n",
    "train_loader,valid_loader,test_loader = read_dataset(batch_size=batch_size,pic_path=cifar10_dir)"
   ]
  },
  {
   "cell_type": "markdown",
   "metadata": {},
   "source": [
    "Loading and modifying the model. The 7x7 downsampling convolution and maxpooling operation of ResNet18 network is easy to lose information. Here we use a 3x3 downsampling convolution and delete maxpooling operation. This makes the receptive field larger and learns more information.\n"
   ]
  },
  {
   "cell_type": "code",
   "execution_count": 5,
   "metadata": {},
   "outputs": [],
   "source": [
    "n_class = 10\n",
    "model = ResNet18()\n",
    "model.conv1 = nn.Conv2d(in_channels=3, out_channels=64, kernel_size=3, stride=1, padding=1, bias=False)\n",
    "model.fc = torch.nn.Linear(512, n_class) \n",
    "model = model.to(device)"
   ]
  },
  {
   "cell_type": "code",
   "execution_count": 6,
   "metadata": {},
   "outputs": [],
   "source": [
    "#Cross-entropy loss function\n",
    "criterion = nn.CrossEntropyLoss().to(device)"
   ]
  },
  {
   "cell_type": "markdown",
   "metadata": {},
   "source": [
    "Training the model. We use the SGD optimizer and a dynamic lr. If the loss of the validation set trained after 10 epochs does not decrease, the lr will be halved. The model is trained for 100 epochs."
   ]
  },
  {
   "cell_type": "code",
   "execution_count": 7,
   "metadata": {},
   "outputs": [],
   "source": [
    "n_epochs = 100\n",
    "valid_loss_min = np.Inf # track change in validation loss\n",
    "accuracy = []\n",
    "lr = 0.1\n",
    "counter = 0\n",
    "\n",
    "trainloss_list = []\n",
    "validloss_list = []\n"
   ]
  },
  {
   "cell_type": "code",
   "execution_count": 8,
   "metadata": {},
   "outputs": [
    {
     "name": "stderr",
     "output_type": "stream",
     "text": [
      "  0%|          | 0/100 [00:00<?, ?it/s]"
     ]
    },
    {
     "name": "stdout",
     "output_type": "stream",
     "text": [
      "Accuracy: 35.08 %\n",
      "Epoch: 1 \tTraining Loss: 2.040648 \tValidation Loss: 1.801633\n",
      "Validation loss decreased (inf --> 1.801633).  Saving model ...\n"
     ]
    },
    {
     "name": "stderr",
     "output_type": "stream",
     "text": [
      "  1%|          | 1/100 [05:35<9:14:23, 335.99s/it]"
     ]
    },
    {
     "name": "stdout",
     "output_type": "stream",
     "text": [
      "Accuracy: 45.23 %\n",
      "Epoch: 2 \tTraining Loss: 1.735835 \tValidation Loss: 1.538904\n",
      "Validation loss decreased (1.801633 --> 1.538904).  Saving model ...\n"
     ]
    },
    {
     "name": "stderr",
     "output_type": "stream",
     "text": [
      "  2%|▏         | 2/100 [11:19<9:16:04, 340.45s/it]"
     ]
    },
    {
     "name": "stdout",
     "output_type": "stream",
     "text": [
      "Accuracy: 53.74 %\n",
      "Epoch: 3 \tTraining Loss: 1.542985 \tValidation Loss: 1.330810\n",
      "Validation loss decreased (1.538904 --> 1.330810).  Saving model ...\n"
     ]
    },
    {
     "name": "stderr",
     "output_type": "stream",
     "text": [
      "  4%|▍         | 4/100 [22:10<8:46:24, 329.00s/it]"
     ]
    },
    {
     "name": "stdout",
     "output_type": "stream",
     "text": [
      "Accuracy: 35.69 %\n",
      "Epoch: 4 \tTraining Loss: 1.408853 \tValidation Loss: 2.330612\n",
      "Accuracy: 58.4 %\n",
      "Epoch: 5 \tTraining Loss: 1.316968 \tValidation Loss: 1.226293\n",
      "Validation loss decreased (1.330810 --> 1.226293).  Saving model ...\n"
     ]
    },
    {
     "name": "stderr",
     "output_type": "stream",
     "text": [
      "  6%|▌         | 6/100 [33:01<8:32:04, 326.86s/it]"
     ]
    },
    {
     "name": "stdout",
     "output_type": "stream",
     "text": [
      "Accuracy: 51.25 %\n",
      "Epoch: 6 \tTraining Loss: 1.267674 \tValidation Loss: 1.657372\n"
     ]
    },
    {
     "name": "stderr",
     "output_type": "stream",
     "text": [
      "  7%|▋         | 7/100 [38:17<8:21:01, 323.24s/it]"
     ]
    },
    {
     "name": "stdout",
     "output_type": "stream",
     "text": [
      "Accuracy: 53.77 %\n",
      "Epoch: 7 \tTraining Loss: 1.224793 \tValidation Loss: 1.549655\n"
     ]
    },
    {
     "name": "stderr",
     "output_type": "stream",
     "text": [
      "  8%|▊         | 8/100 [43:40<8:15:55, 323.43s/it]"
     ]
    },
    {
     "name": "stdout",
     "output_type": "stream",
     "text": [
      "Accuracy: 58.17 %\n",
      "Epoch: 8 \tTraining Loss: 1.200461 \tValidation Loss: 1.524624\n",
      "Accuracy: 63.49 %\n",
      "Epoch: 9 \tTraining Loss: 1.179862 \tValidation Loss: 1.155754\n",
      "Validation loss decreased (1.226293 --> 1.155754).  Saving model ...\n"
     ]
    },
    {
     "name": "stderr",
     "output_type": "stream",
     "text": [
      " 10%|█         | 10/100 [54:19<8:01:57, 321.31s/it]"
     ]
    },
    {
     "name": "stdout",
     "output_type": "stream",
     "text": [
      "Accuracy: 62.08 %\n",
      "Epoch: 10 \tTraining Loss: 1.169975 \tValidation Loss: 1.158957\n",
      "Accuracy: 66.64 %\n",
      "Epoch: 11 \tTraining Loss: 1.156838 \tValidation Loss: 0.976471\n",
      "Validation loss decreased (1.155754 --> 0.976471).  Saving model ...\n"
     ]
    },
    {
     "name": "stderr",
     "output_type": "stream",
     "text": [
      " 12%|█▏        | 12/100 [1:04:43<7:42:09, 315.11s/it]"
     ]
    },
    {
     "name": "stdout",
     "output_type": "stream",
     "text": [
      "Accuracy: 66.59 %\n",
      "Epoch: 12 \tTraining Loss: 1.151452 \tValidation Loss: 0.976572\n"
     ]
    },
    {
     "name": "stderr",
     "output_type": "stream",
     "text": [
      " 13%|█▎        | 13/100 [1:10:02<7:38:40, 316.33s/it]"
     ]
    },
    {
     "name": "stdout",
     "output_type": "stream",
     "text": [
      "Accuracy: 55.97 %\n",
      "Epoch: 13 \tTraining Loss: 1.140724 \tValidation Loss: 1.527449\n"
     ]
    },
    {
     "name": "stderr",
     "output_type": "stream",
     "text": [
      " 14%|█▍        | 14/100 [1:15:18<7:33:20, 316.29s/it]"
     ]
    },
    {
     "name": "stdout",
     "output_type": "stream",
     "text": [
      "Accuracy: 61.31 %\n",
      "Epoch: 14 \tTraining Loss: 1.140879 \tValidation Loss: 1.133322\n"
     ]
    },
    {
     "name": "stderr",
     "output_type": "stream",
     "text": [
      " 15%|█▌        | 15/100 [1:20:38<7:29:37, 317.38s/it]"
     ]
    },
    {
     "name": "stdout",
     "output_type": "stream",
     "text": [
      "Accuracy: 61.02 %\n",
      "Epoch: 15 \tTraining Loss: 1.135291 \tValidation Loss: 1.303886\n"
     ]
    },
    {
     "name": "stderr",
     "output_type": "stream",
     "text": [
      " 16%|█▌        | 16/100 [1:25:59<7:25:51, 318.47s/it]"
     ]
    },
    {
     "name": "stdout",
     "output_type": "stream",
     "text": [
      "Accuracy: 63.8 %\n",
      "Epoch: 16 \tTraining Loss: 1.134412 \tValidation Loss: 1.103605\n"
     ]
    },
    {
     "name": "stderr",
     "output_type": "stream",
     "text": [
      " 17%|█▋        | 17/100 [1:31:23<7:22:43, 320.05s/it]"
     ]
    },
    {
     "name": "stdout",
     "output_type": "stream",
     "text": [
      "Accuracy: 63.14 %\n",
      "Epoch: 17 \tTraining Loss: 1.133643 \tValidation Loss: 1.122659\n"
     ]
    },
    {
     "name": "stderr",
     "output_type": "stream",
     "text": [
      " 18%|█▊        | 18/100 [1:36:51<7:21:00, 322.69s/it]"
     ]
    },
    {
     "name": "stdout",
     "output_type": "stream",
     "text": [
      "Accuracy: 56.67 %\n",
      "Epoch: 18 \tTraining Loss: 1.130923 \tValidation Loss: 1.435939\n"
     ]
    },
    {
     "name": "stderr",
     "output_type": "stream",
     "text": [
      " 19%|█▉        | 19/100 [1:42:03<7:11:03, 319.30s/it]"
     ]
    },
    {
     "name": "stdout",
     "output_type": "stream",
     "text": [
      "Accuracy: 52.03 %\n",
      "Epoch: 19 \tTraining Loss: 1.125899 \tValidation Loss: 1.564151\n"
     ]
    },
    {
     "name": "stderr",
     "output_type": "stream",
     "text": [
      " 20%|██        | 20/100 [1:47:27<7:07:36, 320.71s/it]"
     ]
    },
    {
     "name": "stdout",
     "output_type": "stream",
     "text": [
      "Accuracy: 66.9 %\n",
      "Epoch: 20 \tTraining Loss: 1.126911 \tValidation Loss: 1.016089\n"
     ]
    },
    {
     "name": "stderr",
     "output_type": "stream",
     "text": [
      " 21%|██        | 21/100 [1:52:46<7:01:45, 320.32s/it]"
     ]
    },
    {
     "name": "stdout",
     "output_type": "stream",
     "text": [
      "Accuracy: 57.9 %\n",
      "Epoch: 21 \tTraining Loss: 1.132009 \tValidation Loss: 1.328715\n",
      "Accuracy: 72.99 %\n",
      "Epoch: 22 \tTraining Loss: 0.910779 \tValidation Loss: 0.812726\n",
      "Validation loss decreased (0.976471 --> 0.812726).  Saving model ...\n"
     ]
    },
    {
     "name": "stderr",
     "output_type": "stream",
     "text": [
      " 23%|██▎       | 23/100 [2:03:39<6:55:13, 323.55s/it]"
     ]
    },
    {
     "name": "stdout",
     "output_type": "stream",
     "text": [
      "Accuracy: 72.23 %\n",
      "Epoch: 23 \tTraining Loss: 0.906402 \tValidation Loss: 0.826875\n"
     ]
    },
    {
     "name": "stderr",
     "output_type": "stream",
     "text": [
      " 24%|██▍       | 24/100 [2:08:58<6:48:09, 322.23s/it]"
     ]
    },
    {
     "name": "stdout",
     "output_type": "stream",
     "text": [
      "Accuracy: 71.19 %\n",
      "Epoch: 24 \tTraining Loss: 0.892967 \tValidation Loss: 0.831543\n"
     ]
    },
    {
     "name": "stderr",
     "output_type": "stream",
     "text": [
      " 25%|██▌       | 25/100 [2:14:02<6:35:35, 316.47s/it]"
     ]
    },
    {
     "name": "stdout",
     "output_type": "stream",
     "text": [
      "Accuracy: 65.87 %\n",
      "Epoch: 25 \tTraining Loss: 0.883539 \tValidation Loss: 1.142352\n"
     ]
    },
    {
     "name": "stderr",
     "output_type": "stream",
     "text": [
      " 26%|██▌       | 26/100 [2:19:22<6:31:47, 317.66s/it]"
     ]
    },
    {
     "name": "stdout",
     "output_type": "stream",
     "text": [
      "Accuracy: 68.26 %\n",
      "Epoch: 26 \tTraining Loss: 0.866418 \tValidation Loss: 0.996830\n"
     ]
    },
    {
     "name": "stderr",
     "output_type": "stream",
     "text": [
      " 27%|██▋       | 27/100 [2:24:38<6:25:46, 317.08s/it]"
     ]
    },
    {
     "name": "stdout",
     "output_type": "stream",
     "text": [
      "Accuracy: 72.29 %\n",
      "Epoch: 27 \tTraining Loss: 0.858682 \tValidation Loss: 0.815573\n"
     ]
    },
    {
     "name": "stderr",
     "output_type": "stream",
     "text": [
      " 28%|██▊       | 28/100 [2:29:50<6:18:53, 315.75s/it]"
     ]
    },
    {
     "name": "stdout",
     "output_type": "stream",
     "text": [
      "Accuracy: 70.89 %\n",
      "Epoch: 28 \tTraining Loss: 0.854057 \tValidation Loss: 0.864236\n"
     ]
    },
    {
     "name": "stderr",
     "output_type": "stream",
     "text": [
      " 29%|██▉       | 29/100 [2:35:13<6:15:57, 317.71s/it]"
     ]
    },
    {
     "name": "stdout",
     "output_type": "stream",
     "text": [
      "Accuracy: 71.4 %\n",
      "Epoch: 29 \tTraining Loss: 0.848782 \tValidation Loss: 0.857606\n",
      "Accuracy: 75.88 %\n",
      "Epoch: 30 \tTraining Loss: 0.843790 \tValidation Loss: 0.744905\n",
      "Validation loss decreased (0.812726 --> 0.744905).  Saving model ...\n"
     ]
    },
    {
     "name": "stderr",
     "output_type": "stream",
     "text": [
      " 31%|███       | 31/100 [2:45:51<6:07:03, 319.19s/it]"
     ]
    },
    {
     "name": "stdout",
     "output_type": "stream",
     "text": [
      "Accuracy: 65.96 %\n",
      "Epoch: 31 \tTraining Loss: 0.837510 \tValidation Loss: 1.078906\n",
      "Accuracy: 75.75 %\n",
      "Epoch: 32 \tTraining Loss: 0.835847 \tValidation Loss: 0.737183\n",
      "Validation loss decreased (0.744905 --> 0.737183).  Saving model ...\n"
     ]
    },
    {
     "name": "stderr",
     "output_type": "stream",
     "text": [
      " 33%|███▎      | 33/100 [2:56:24<5:55:01, 317.93s/it]"
     ]
    },
    {
     "name": "stdout",
     "output_type": "stream",
     "text": [
      "Accuracy: 75.35 %\n",
      "Epoch: 33 \tTraining Loss: 0.835809 \tValidation Loss: 0.741917\n"
     ]
    },
    {
     "name": "stderr",
     "output_type": "stream",
     "text": [
      " 34%|███▍      | 34/100 [3:01:49<5:52:03, 320.06s/it]"
     ]
    },
    {
     "name": "stdout",
     "output_type": "stream",
     "text": [
      "Accuracy: 75.2 %\n",
      "Epoch: 34 \tTraining Loss: 0.829221 \tValidation Loss: 0.751062\n"
     ]
    },
    {
     "name": "stderr",
     "output_type": "stream",
     "text": [
      " 35%|███▌      | 35/100 [3:07:14<5:48:18, 321.51s/it]"
     ]
    },
    {
     "name": "stdout",
     "output_type": "stream",
     "text": [
      "Accuracy: 69.45 %\n",
      "Epoch: 35 \tTraining Loss: 0.831824 \tValidation Loss: 0.942505\n"
     ]
    },
    {
     "name": "stderr",
     "output_type": "stream",
     "text": [
      " 36%|███▌      | 36/100 [3:12:37<5:43:29, 322.02s/it]"
     ]
    },
    {
     "name": "stdout",
     "output_type": "stream",
     "text": [
      "Accuracy: 71.52 %\n",
      "Epoch: 36 \tTraining Loss: 0.826633 \tValidation Loss: 0.853734\n"
     ]
    },
    {
     "name": "stderr",
     "output_type": "stream",
     "text": [
      " 37%|███▋      | 37/100 [3:17:59<5:38:11, 322.08s/it]"
     ]
    },
    {
     "name": "stdout",
     "output_type": "stream",
     "text": [
      "Accuracy: 70.35 %\n",
      "Epoch: 37 \tTraining Loss: 0.823929 \tValidation Loss: 0.958788\n"
     ]
    },
    {
     "name": "stderr",
     "output_type": "stream",
     "text": [
      " 38%|███▊      | 38/100 [3:23:13<5:30:22, 319.72s/it]"
     ]
    },
    {
     "name": "stdout",
     "output_type": "stream",
     "text": [
      "Accuracy: 65.56 %\n",
      "Epoch: 38 \tTraining Loss: 0.822263 \tValidation Loss: 1.143111\n"
     ]
    },
    {
     "name": "stderr",
     "output_type": "stream",
     "text": [
      " 39%|███▉      | 39/100 [3:28:35<5:25:43, 320.39s/it]"
     ]
    },
    {
     "name": "stdout",
     "output_type": "stream",
     "text": [
      "Accuracy: 72.02 %\n",
      "Epoch: 39 \tTraining Loss: 0.816618 \tValidation Loss: 0.839742\n"
     ]
    },
    {
     "name": "stderr",
     "output_type": "stream",
     "text": [
      " 40%|████      | 40/100 [3:33:54<5:19:45, 319.77s/it]"
     ]
    },
    {
     "name": "stdout",
     "output_type": "stream",
     "text": [
      "Accuracy: 72.56 %\n",
      "Epoch: 40 \tTraining Loss: 0.815933 \tValidation Loss: 0.836409\n"
     ]
    },
    {
     "name": "stderr",
     "output_type": "stream",
     "text": [
      " 41%|████      | 41/100 [3:39:16<5:15:19, 320.68s/it]"
     ]
    },
    {
     "name": "stdout",
     "output_type": "stream",
     "text": [
      "Accuracy: 71.61 %\n",
      "Epoch: 41 \tTraining Loss: 0.824600 \tValidation Loss: 0.862233\n",
      "Accuracy: 77.3 %\n",
      "Epoch: 42 \tTraining Loss: 0.816633 \tValidation Loss: 0.685404\n",
      "Validation loss decreased (0.737183 --> 0.685404).  Saving model ...\n"
     ]
    },
    {
     "name": "stderr",
     "output_type": "stream",
     "text": [
      " 43%|████▎     | 43/100 [3:50:13<5:08:34, 324.82s/it]"
     ]
    },
    {
     "name": "stdout",
     "output_type": "stream",
     "text": [
      "Accuracy: 72.66 %\n",
      "Epoch: 43 \tTraining Loss: 0.809309 \tValidation Loss: 0.833534\n"
     ]
    },
    {
     "name": "stderr",
     "output_type": "stream",
     "text": [
      " 44%|████▍     | 44/100 [3:55:33<5:01:42, 323.26s/it]"
     ]
    },
    {
     "name": "stdout",
     "output_type": "stream",
     "text": [
      "Accuracy: 74.08 %\n",
      "Epoch: 44 \tTraining Loss: 0.812006 \tValidation Loss: 0.810321\n"
     ]
    },
    {
     "name": "stderr",
     "output_type": "stream",
     "text": [
      " 45%|████▌     | 45/100 [4:00:59<4:57:07, 324.14s/it]"
     ]
    },
    {
     "name": "stdout",
     "output_type": "stream",
     "text": [
      "Accuracy: 77.18 %\n",
      "Epoch: 45 \tTraining Loss: 0.815646 \tValidation Loss: 0.694515\n"
     ]
    },
    {
     "name": "stderr",
     "output_type": "stream",
     "text": [
      " 46%|████▌     | 46/100 [4:06:29<4:53:25, 326.04s/it]"
     ]
    },
    {
     "name": "stdout",
     "output_type": "stream",
     "text": [
      "Accuracy: 66.38 %\n",
      "Epoch: 46 \tTraining Loss: 0.810611 \tValidation Loss: 1.043822\n"
     ]
    },
    {
     "name": "stderr",
     "output_type": "stream",
     "text": [
      " 47%|████▋     | 47/100 [4:12:01<4:49:31, 327.76s/it]"
     ]
    },
    {
     "name": "stdout",
     "output_type": "stream",
     "text": [
      "Accuracy: 74.88 %\n",
      "Epoch: 47 \tTraining Loss: 0.804952 \tValidation Loss: 0.770841\n"
     ]
    },
    {
     "name": "stderr",
     "output_type": "stream",
     "text": [
      " 48%|████▊     | 48/100 [4:17:29<4:44:03, 327.76s/it]"
     ]
    },
    {
     "name": "stdout",
     "output_type": "stream",
     "text": [
      "Accuracy: 73.4 %\n",
      "Epoch: 48 \tTraining Loss: 0.807716 \tValidation Loss: 0.803725\n"
     ]
    },
    {
     "name": "stderr",
     "output_type": "stream",
     "text": [
      " 49%|████▉     | 49/100 [4:23:03<4:40:08, 329.58s/it]"
     ]
    },
    {
     "name": "stdout",
     "output_type": "stream",
     "text": [
      "Accuracy: 70.28 %\n",
      "Epoch: 49 \tTraining Loss: 0.805148 \tValidation Loss: 0.918679\n"
     ]
    },
    {
     "name": "stderr",
     "output_type": "stream",
     "text": [
      " 50%|█████     | 50/100 [4:28:37<4:35:57, 331.14s/it]"
     ]
    },
    {
     "name": "stdout",
     "output_type": "stream",
     "text": [
      "Accuracy: 69.43 %\n",
      "Epoch: 50 \tTraining Loss: 0.802367 \tValidation Loss: 1.034565\n"
     ]
    },
    {
     "name": "stderr",
     "output_type": "stream",
     "text": [
      " 51%|█████     | 51/100 [4:34:17<4:32:30, 333.69s/it]"
     ]
    },
    {
     "name": "stdout",
     "output_type": "stream",
     "text": [
      "Accuracy: 68.98 %\n",
      "Epoch: 51 \tTraining Loss: 0.804272 \tValidation Loss: 1.029894\n"
     ]
    },
    {
     "name": "stderr",
     "output_type": "stream",
     "text": [
      " 52%|█████▏    | 52/100 [4:40:06<4:30:29, 338.11s/it]"
     ]
    },
    {
     "name": "stdout",
     "output_type": "stream",
     "text": [
      "Accuracy: 69.15 %\n",
      "Epoch: 52 \tTraining Loss: 0.802126 \tValidation Loss: 0.986333\n",
      "Accuracy: 78.68 %\n",
      "Epoch: 53 \tTraining Loss: 0.581010 \tValidation Loss: 0.654493\n",
      "Validation loss decreased (0.685404 --> 0.654493).  Saving model ...\n"
     ]
    },
    {
     "name": "stderr",
     "output_type": "stream",
     "text": [
      " 53%|█████▎    | 53/100 [4:45:58<4:28:18, 342.51s/it]"
     ]
    },
    {
     "name": "stdout",
     "output_type": "stream",
     "text": [
      "Accuracy: 78.88 %\n",
      "Epoch: 54 \tTraining Loss: 0.570427 \tValidation Loss: 0.647928\n",
      "Validation loss decreased (0.654493 --> 0.647928).  Saving model ...\n"
     ]
    },
    {
     "name": "stderr",
     "output_type": "stream",
     "text": [
      " 55%|█████▌    | 55/100 [4:57:38<4:19:44, 346.32s/it]"
     ]
    },
    {
     "name": "stdout",
     "output_type": "stream",
     "text": [
      "Accuracy: 79.45 %\n",
      "Epoch: 55 \tTraining Loss: 0.554199 \tValidation Loss: 0.658563\n",
      "Accuracy: 80.1 %\n",
      "Epoch: 56 \tTraining Loss: 0.549208 \tValidation Loss: 0.599311\n",
      "Validation loss decreased (0.647928 --> 0.599311).  Saving model ...\n"
     ]
    },
    {
     "name": "stderr",
     "output_type": "stream",
     "text": [
      " 57%|█████▋    | 57/100 [5:09:49<4:14:52, 355.64s/it]"
     ]
    },
    {
     "name": "stdout",
     "output_type": "stream",
     "text": [
      "Accuracy: 77.19 %\n",
      "Epoch: 57 \tTraining Loss: 0.531326 \tValidation Loss: 0.748217\n"
     ]
    },
    {
     "name": "stderr",
     "output_type": "stream",
     "text": [
      " 58%|█████▊    | 58/100 [5:15:49<4:09:51, 356.94s/it]"
     ]
    },
    {
     "name": "stdout",
     "output_type": "stream",
     "text": [
      "Accuracy: 78.08 %\n",
      "Epoch: 58 \tTraining Loss: 0.528499 \tValidation Loss: 0.694627\n"
     ]
    },
    {
     "name": "stderr",
     "output_type": "stream",
     "text": [
      " 59%|█████▉    | 59/100 [5:21:53<4:05:31, 359.31s/it]"
     ]
    },
    {
     "name": "stdout",
     "output_type": "stream",
     "text": [
      "Accuracy: 79.93 %\n",
      "Epoch: 59 \tTraining Loss: 0.516862 \tValidation Loss: 0.631456\n"
     ]
    },
    {
     "name": "stderr",
     "output_type": "stream",
     "text": [
      " 60%|██████    | 60/100 [5:28:09<4:02:50, 364.26s/it]"
     ]
    },
    {
     "name": "stdout",
     "output_type": "stream",
     "text": [
      "Accuracy: 77.62 %\n",
      "Epoch: 60 \tTraining Loss: 0.508137 \tValidation Loss: 0.732583\n"
     ]
    },
    {
     "name": "stderr",
     "output_type": "stream",
     "text": [
      " 61%|██████    | 61/100 [5:34:19<3:57:55, 366.04s/it]"
     ]
    },
    {
     "name": "stdout",
     "output_type": "stream",
     "text": [
      "Accuracy: 78.71 %\n",
      "Epoch: 61 \tTraining Loss: 0.500563 \tValidation Loss: 0.708297\n"
     ]
    },
    {
     "name": "stderr",
     "output_type": "stream",
     "text": [
      " 62%|██████▏   | 62/100 [5:40:32<3:53:02, 367.97s/it]"
     ]
    },
    {
     "name": "stdout",
     "output_type": "stream",
     "text": [
      "Accuracy: 76.86 %\n",
      "Epoch: 62 \tTraining Loss: 0.506427 \tValidation Loss: 0.768922\n"
     ]
    },
    {
     "name": "stderr",
     "output_type": "stream",
     "text": [
      " 63%|██████▎   | 63/100 [5:46:42<3:47:13, 368.47s/it]"
     ]
    },
    {
     "name": "stdout",
     "output_type": "stream",
     "text": [
      "Accuracy: 77.48 %\n",
      "Epoch: 63 \tTraining Loss: 0.499911 \tValidation Loss: 0.730196\n"
     ]
    },
    {
     "name": "stderr",
     "output_type": "stream",
     "text": [
      " 64%|██████▍   | 64/100 [5:52:53<3:41:39, 369.44s/it]"
     ]
    },
    {
     "name": "stdout",
     "output_type": "stream",
     "text": [
      "Accuracy: 79.93 %\n",
      "Epoch: 64 \tTraining Loss: 0.501140 \tValidation Loss: 0.618494\n"
     ]
    },
    {
     "name": "stderr",
     "output_type": "stream",
     "text": [
      " 65%|██████▌   | 65/100 [5:59:07<3:36:17, 370.79s/it]"
     ]
    },
    {
     "name": "stdout",
     "output_type": "stream",
     "text": [
      "Accuracy: 78.06 %\n",
      "Epoch: 65 \tTraining Loss: 0.485278 \tValidation Loss: 0.777226\n"
     ]
    },
    {
     "name": "stderr",
     "output_type": "stream",
     "text": [
      " 66%|██████▌   | 66/100 [6:05:18<3:30:09, 370.88s/it]"
     ]
    },
    {
     "name": "stdout",
     "output_type": "stream",
     "text": [
      "Accuracy: 75.87 %\n",
      "Epoch: 66 \tTraining Loss: 0.490373 \tValidation Loss: 0.785326\n"
     ]
    },
    {
     "name": "stderr",
     "output_type": "stream",
     "text": [
      " 67%|██████▋   | 67/100 [6:11:31<3:24:14, 371.34s/it]"
     ]
    },
    {
     "name": "stdout",
     "output_type": "stream",
     "text": [
      "Accuracy: 82.03 %\n",
      "Epoch: 67 \tTraining Loss: 0.234212 \tValidation Loss: 0.624390\n"
     ]
    },
    {
     "name": "stderr",
     "output_type": "stream",
     "text": [
      " 68%|██████▊   | 68/100 [6:17:39<3:17:38, 370.58s/it]"
     ]
    },
    {
     "name": "stdout",
     "output_type": "stream",
     "text": [
      "Accuracy: 79.71 %\n",
      "Epoch: 68 \tTraining Loss: 0.213562 \tValidation Loss: 0.771645\n"
     ]
    },
    {
     "name": "stderr",
     "output_type": "stream",
     "text": [
      " 69%|██████▉   | 69/100 [6:23:46<3:10:46, 369.24s/it]"
     ]
    },
    {
     "name": "stdout",
     "output_type": "stream",
     "text": [
      "Accuracy: 78.06 %\n",
      "Epoch: 69 \tTraining Loss: 0.240943 \tValidation Loss: 0.848156\n"
     ]
    },
    {
     "name": "stderr",
     "output_type": "stream",
     "text": [
      " 70%|███████   | 70/100 [6:29:54<3:04:27, 368.90s/it]"
     ]
    },
    {
     "name": "stdout",
     "output_type": "stream",
     "text": [
      "Accuracy: 79.96 %\n",
      "Epoch: 70 \tTraining Loss: 0.249796 \tValidation Loss: 0.733436\n"
     ]
    },
    {
     "name": "stderr",
     "output_type": "stream",
     "text": [
      " 71%|███████   | 71/100 [6:36:09<2:59:11, 370.75s/it]"
     ]
    },
    {
     "name": "stdout",
     "output_type": "stream",
     "text": [
      "Accuracy: 80.32 %\n",
      "Epoch: 71 \tTraining Loss: 0.250853 \tValidation Loss: 0.693631\n"
     ]
    },
    {
     "name": "stderr",
     "output_type": "stream",
     "text": [
      " 72%|███████▏  | 72/100 [6:42:20<2:53:05, 370.92s/it]"
     ]
    },
    {
     "name": "stdout",
     "output_type": "stream",
     "text": [
      "Accuracy: 80.17 %\n",
      "Epoch: 72 \tTraining Loss: 0.250454 \tValidation Loss: 0.709050\n"
     ]
    },
    {
     "name": "stderr",
     "output_type": "stream",
     "text": [
      " 73%|███████▎  | 73/100 [6:48:28<2:46:30, 370.03s/it]"
     ]
    },
    {
     "name": "stdout",
     "output_type": "stream",
     "text": [
      "Accuracy: 80.55 %\n",
      "Epoch: 73 \tTraining Loss: 0.247006 \tValidation Loss: 0.675545\n"
     ]
    },
    {
     "name": "stderr",
     "output_type": "stream",
     "text": [
      " 74%|███████▍  | 74/100 [6:54:33<2:39:41, 368.51s/it]"
     ]
    },
    {
     "name": "stdout",
     "output_type": "stream",
     "text": [
      "Accuracy: 80.35 %\n",
      "Epoch: 74 \tTraining Loss: 0.249796 \tValidation Loss: 0.690043\n"
     ]
    },
    {
     "name": "stderr",
     "output_type": "stream",
     "text": [
      " 75%|███████▌  | 75/100 [7:00:35<2:32:45, 366.61s/it]"
     ]
    },
    {
     "name": "stdout",
     "output_type": "stream",
     "text": [
      "Accuracy: 80.94 %\n",
      "Epoch: 75 \tTraining Loss: 0.246309 \tValidation Loss: 0.688570\n"
     ]
    },
    {
     "name": "stderr",
     "output_type": "stream",
     "text": [
      " 76%|███████▌  | 76/100 [7:06:44<2:26:51, 367.16s/it]"
     ]
    },
    {
     "name": "stdout",
     "output_type": "stream",
     "text": [
      "Accuracy: 80.4 %\n",
      "Epoch: 76 \tTraining Loss: 0.243297 \tValidation Loss: 0.722370\n"
     ]
    },
    {
     "name": "stderr",
     "output_type": "stream",
     "text": [
      " 77%|███████▋  | 77/100 [7:12:48<2:20:26, 366.38s/it]"
     ]
    },
    {
     "name": "stdout",
     "output_type": "stream",
     "text": [
      "Accuracy: 83.44 %\n",
      "Epoch: 77 \tTraining Loss: 0.075428 \tValidation Loss: 0.627956\n"
     ]
    },
    {
     "name": "stderr",
     "output_type": "stream",
     "text": [
      " 78%|███████▊  | 78/100 [7:18:51<2:13:57, 365.36s/it]"
     ]
    },
    {
     "name": "stdout",
     "output_type": "stream",
     "text": [
      "Accuracy: 83.97 %\n",
      "Epoch: 78 \tTraining Loss: 0.029198 \tValidation Loss: 0.645210\n"
     ]
    },
    {
     "name": "stderr",
     "output_type": "stream",
     "text": [
      " 79%|███████▉  | 79/100 [7:25:02<2:08:29, 367.12s/it]"
     ]
    },
    {
     "name": "stdout",
     "output_type": "stream",
     "text": [
      "Accuracy: 84.62 %\n",
      "Epoch: 79 \tTraining Loss: 0.019916 \tValidation Loss: 0.641798\n"
     ]
    },
    {
     "name": "stderr",
     "output_type": "stream",
     "text": [
      " 80%|████████  | 80/100 [7:31:11<2:02:29, 367.48s/it]"
     ]
    },
    {
     "name": "stdout",
     "output_type": "stream",
     "text": [
      "Accuracy: 81.82 %\n",
      "Epoch: 80 \tTraining Loss: 0.048684 \tValidation Loss: 0.742668\n"
     ]
    },
    {
     "name": "stderr",
     "output_type": "stream",
     "text": [
      " 81%|████████  | 81/100 [7:37:23<1:56:47, 368.83s/it]"
     ]
    },
    {
     "name": "stdout",
     "output_type": "stream",
     "text": [
      "Accuracy: 81.01 %\n",
      "Epoch: 81 \tTraining Loss: 0.108689 \tValidation Loss: 0.723101\n"
     ]
    },
    {
     "name": "stderr",
     "output_type": "stream",
     "text": [
      " 82%|████████▏ | 82/100 [7:43:28<1:50:20, 367.79s/it]"
     ]
    },
    {
     "name": "stdout",
     "output_type": "stream",
     "text": [
      "Accuracy: 78.84 %\n",
      "Epoch: 82 \tTraining Loss: 0.128796 \tValidation Loss: 0.803620\n"
     ]
    },
    {
     "name": "stderr",
     "output_type": "stream",
     "text": [
      " 83%|████████▎ | 83/100 [7:49:39<1:44:28, 368.74s/it]"
     ]
    },
    {
     "name": "stdout",
     "output_type": "stream",
     "text": [
      "Accuracy: 81.09 %\n",
      "Epoch: 83 \tTraining Loss: 0.129613 \tValidation Loss: 0.721814\n"
     ]
    },
    {
     "name": "stderr",
     "output_type": "stream",
     "text": [
      " 84%|████████▍ | 84/100 [7:55:51<1:38:34, 369.63s/it]"
     ]
    },
    {
     "name": "stdout",
     "output_type": "stream",
     "text": [
      "Accuracy: 81.23 %\n",
      "Epoch: 84 \tTraining Loss: 0.121101 \tValidation Loss: 0.714851\n"
     ]
    },
    {
     "name": "stderr",
     "output_type": "stream",
     "text": [
      " 85%|████████▌ | 85/100 [8:02:02<1:32:30, 370.06s/it]"
     ]
    },
    {
     "name": "stdout",
     "output_type": "stream",
     "text": [
      "Accuracy: 80.43 %\n",
      "Epoch: 85 \tTraining Loss: 0.120538 \tValidation Loss: 0.767812\n"
     ]
    },
    {
     "name": "stderr",
     "output_type": "stream",
     "text": [
      " 86%|████████▌ | 86/100 [8:08:11<1:26:16, 369.73s/it]"
     ]
    },
    {
     "name": "stdout",
     "output_type": "stream",
     "text": [
      "Accuracy: 81.45 %\n",
      "Epoch: 86 \tTraining Loss: 0.120828 \tValidation Loss: 0.753535\n"
     ]
    },
    {
     "name": "stderr",
     "output_type": "stream",
     "text": [
      " 87%|████████▋ | 87/100 [8:14:13<1:19:35, 367.36s/it]"
     ]
    },
    {
     "name": "stdout",
     "output_type": "stream",
     "text": [
      "Accuracy: 84.62 %\n",
      "Epoch: 87 \tTraining Loss: 0.036717 \tValidation Loss: 0.603594\n",
      "Accuracy: 85.23 %\n",
      "Epoch: 88 \tTraining Loss: 0.011090 \tValidation Loss: 0.598055\n",
      "Validation loss decreased (0.599311 --> 0.598055).  Saving model ...\n"
     ]
    },
    {
     "name": "stderr",
     "output_type": "stream",
     "text": [
      " 89%|████████▉ | 89/100 [8:26:21<1:06:54, 364.97s/it]"
     ]
    },
    {
     "name": "stdout",
     "output_type": "stream",
     "text": [
      "Accuracy: 84.78 %\n",
      "Epoch: 89 \tTraining Loss: 0.006303 \tValidation Loss: 0.599981\n"
     ]
    },
    {
     "name": "stderr",
     "output_type": "stream",
     "text": [
      " 90%|█████████ | 90/100 [8:32:37<1:01:25, 368.57s/it]"
     ]
    },
    {
     "name": "stdout",
     "output_type": "stream",
     "text": [
      "Accuracy: 85.07 %\n",
      "Epoch: 90 \tTraining Loss: 0.005278 \tValidation Loss: 0.600800\n",
      "Accuracy: 85.5 %\n",
      "Epoch: 91 \tTraining Loss: 0.003781 \tValidation Loss: 0.558666\n",
      "Validation loss decreased (0.598055 --> 0.558666).  Saving model ...\n"
     ]
    },
    {
     "name": "stderr",
     "output_type": "stream",
     "text": [
      " 92%|█████████▏| 92/100 [8:44:57<49:12, 369.11s/it]  "
     ]
    },
    {
     "name": "stdout",
     "output_type": "stream",
     "text": [
      "Accuracy: 85.43 %\n",
      "Epoch: 92 \tTraining Loss: 0.003280 \tValidation Loss: 0.568889\n"
     ]
    },
    {
     "name": "stderr",
     "output_type": "stream",
     "text": [
      " 93%|█████████▎| 93/100 [8:50:59<42:49, 367.01s/it]"
     ]
    },
    {
     "name": "stdout",
     "output_type": "stream",
     "text": [
      "Accuracy: 85.47 %\n",
      "Epoch: 93 \tTraining Loss: 0.003338 \tValidation Loss: 0.563710\n",
      "Accuracy: 85.5 %\n",
      "Epoch: 94 \tTraining Loss: 0.002990 \tValidation Loss: 0.550483\n",
      "Validation loss decreased (0.558666 --> 0.550483).  Saving model ...\n"
     ]
    },
    {
     "name": "stderr",
     "output_type": "stream",
     "text": [
      " 95%|█████████▌| 95/100 [9:03:10<30:32, 366.60s/it]"
     ]
    },
    {
     "name": "stdout",
     "output_type": "stream",
     "text": [
      "Accuracy: 85.25 %\n",
      "Epoch: 95 \tTraining Loss: 0.002853 \tValidation Loss: 0.550899\n"
     ]
    },
    {
     "name": "stderr",
     "output_type": "stream",
     "text": [
      " 96%|█████████▌| 96/100 [9:09:17<24:26, 366.53s/it]"
     ]
    },
    {
     "name": "stdout",
     "output_type": "stream",
     "text": [
      "Accuracy: 85.44 %\n",
      "Epoch: 96 \tTraining Loss: 0.003527 \tValidation Loss: 0.554574\n"
     ]
    },
    {
     "name": "stderr",
     "output_type": "stream",
     "text": [
      " 97%|█████████▋| 97/100 [9:15:28<18:24, 368.04s/it]"
     ]
    },
    {
     "name": "stdout",
     "output_type": "stream",
     "text": [
      "Accuracy: 85.61 %\n",
      "Epoch: 97 \tTraining Loss: 0.003076 \tValidation Loss: 0.556793\n"
     ]
    },
    {
     "name": "stderr",
     "output_type": "stream",
     "text": [
      " 98%|█████████▊| 98/100 [9:21:40<12:18, 369.12s/it]"
     ]
    },
    {
     "name": "stdout",
     "output_type": "stream",
     "text": [
      "Accuracy: 85.72 %\n",
      "Epoch: 98 \tTraining Loss: 0.002546 \tValidation Loss: 0.557741\n"
     ]
    },
    {
     "name": "stderr",
     "output_type": "stream",
     "text": [
      " 99%|█████████▉| 99/100 [9:27:46<06:08, 368.35s/it]"
     ]
    },
    {
     "name": "stdout",
     "output_type": "stream",
     "text": [
      "Accuracy: 85.18 %\n",
      "Epoch: 99 \tTraining Loss: 0.003038 \tValidation Loss: 0.571237\n"
     ]
    },
    {
     "name": "stderr",
     "output_type": "stream",
     "text": [
      "100%|██████████| 100/100 [9:33:54<00:00, 344.34s/it]"
     ]
    },
    {
     "name": "stdout",
     "output_type": "stream",
     "text": [
      "Accuracy: 81.64 %\n",
      "Epoch: 100 \tTraining Loss: 0.011526 \tValidation Loss: 0.719515\n"
     ]
    },
    {
     "name": "stderr",
     "output_type": "stream",
     "text": [
      "\n"
     ]
    }
   ],
   "source": [
    "for epoch in tqdm(range(1, n_epochs+1)):\n",
    "\n",
    "    # keep track of training and validation loss\n",
    "    train_loss = 0.0\n",
    "    valid_loss = 0.0\n",
    "    total_sample = 0\n",
    "    right_sample = 0\n",
    "    \n",
    "    #dynamic lr\n",
    "    if counter/10 ==1:\n",
    "        counter = 0\n",
    "        lr = lr*0.5\n",
    "    optimizer = optim.SGD(model.parameters(), lr=lr, momentum=0.9, weight_decay=5e-4)\n",
    "    ###################\n",
    "    # model from train set#\n",
    "    ###################\n",
    "    model.train() \n",
    "    for data, target in train_loader:\n",
    "        data = data.to(device)\n",
    "        target = target.to(device)\n",
    "        # clear the gradients of all optimized variables\n",
    "        optimizer.zero_grad()\n",
    "        # forward pass: compute predicted outputs by passing inputs to the model\n",
    "        output = model(data).to(device) \n",
    "        # calculate the batch loss\n",
    "        loss = criterion(output, target)\n",
    "        # backward pass: compute gradient of the loss with respect to model parameters\n",
    "        loss.backward()\n",
    "        # perform a single optimization step (parameter update)\n",
    "        optimizer.step()\n",
    "        # update training loss\n",
    "        train_loss += loss.item()*data.size(0)\n",
    "        \n",
    "    ######################    \n",
    "    # Validating models#\n",
    "    ######################\n",
    "\n",
    "    model.eval()  \n",
    "    for data, target in valid_loader:\n",
    "        data = data.to(device)\n",
    "        target = target.to(device)\n",
    "        # forward pass: compute predicted outputs by passing inputs to the model\n",
    "        output = model(data).to(device)\n",
    "        # calculate the batch loss\n",
    "        loss = criterion(output, target)\n",
    "        # update average validation loss \n",
    "        valid_loss += loss.item()*data.size(0)\n",
    "        # convert output probabilities to predicted class\n",
    "        _, pred = torch.max(output, 1)    \n",
    "        # compare predictions to true label\n",
    "        correct_tensor = pred.eq(target.data.view_as(pred))\n",
    "        # correct = np.squeeze(correct_tensor.to(device).numpy())\n",
    "        total_sample += batch_size\n",
    "        for i in correct_tensor:\n",
    "            if i:\n",
    "                right_sample += 1\n",
    "    print(\"Accuracy:\",100*right_sample/total_sample,\"%\")\n",
    "    accuracy.append(right_sample/total_sample)\n",
    "  \n",
    "    # Calculate the average loss\n",
    "    train_loss = train_loss/len(train_loader.sampler)\n",
    "    valid_loss = valid_loss/len(valid_loader.sampler)\n",
    "    trainloss_list.append(train_loss)\n",
    "    validloss_list.append(valid_loss)\n",
    "        \n",
    "    # Print loss\n",
    "    print('Epoch: {} \\tTraining Loss: {:.6f} \\tValidation Loss: {:.6f}'.format(\n",
    "        epoch, train_loss, valid_loss))\n",
    "    \n",
    "    # Save model when the validation loss decrease\n",
    "    if valid_loss <= valid_loss_min:\n",
    "        print('Validation loss decreased ({:.6f} --> {:.6f}).  Saving model ...'.format(valid_loss_min,valid_loss))\n",
    "        torch.save(model.state_dict(), 'checkpoint/resnet18_cifar10_410.pt')\n",
    "        valid_loss_min = valid_loss\n",
    "        counter = 0\n",
    "    else:\n",
    "        counter += 1"
   ]
  },
  {
   "cell_type": "code",
   "execution_count": 9,
   "metadata": {},
   "outputs": [
    {
     "name": "stdout",
     "output_type": "stream",
     "text": [
      "Best Accuracy: 85.72 %\n"
     ]
    }
   ],
   "source": [
    "#Print best accuray\n",
    "print(\"Best Accuracy:\", 100 * max(accuracy), \"%\")\n"
   ]
  },
  {
   "cell_type": "code",
   "execution_count": 10,
   "metadata": {},
   "outputs": [
    {
     "data": {
      "image/png": "[encoded data removed]",
      "text/plain": [
       "<Figure size 640x480 with 1 Axes>"
      ]
     },
     "metadata": {},
     "output_type": "display_data"
    }
   ],
   "source": [
    "# Plotting the training and validation losses\n",
    "import matplotlib.pyplot as plt\n",
    "\n",
    "plt.plot(range(1, n_epochs+1), trainloss_list, label='Training Loss')\n",
    "plt.plot(range(1, n_epochs+1), validloss_list, label='Validation Loss')\n",
    "plt.xlabel('Epoch')\n",
    "plt.ylabel('Loss')\n",
    "plt.title('Training and Validation Losses')\n",
    "plt.legend()\n",
    "plt.show()\n"
   ]
  },
  {
   "cell_type": "code",
   "execution_count": 11,
   "metadata": {},
   "outputs": [
    {
     "name": "stdout",
     "output_type": "stream",
     "text": [
      "Total number of parameters:  11173962\n"
     ]
    }
   ],
   "source": [
    "# Model size 11173962\n",
    "total_params = sum(p.numel() for p in model.parameters())\n",
    "print(\"Total number of parameters: \", total_params)\n"
   ]
  }
 ],
 "metadata": {
  "kernelspec": {
   "display_name": "myenv2",
   "language": "python",
   "name": "python3"
  },
  "language_info": {
   "codemirror_mode": {
    "name": "ipython",
    "version": 3
   },
   "file_extension": ".py",
   "mimetype": "text/x-python",
   "name": "python",
   "nbconvert_exporter": "python",
   "pygments_lexer": "ipython3",
   "version": "3.9.12"
  }
 },
 "nbformat": 4,
 "nbformat_minor": 2
}
